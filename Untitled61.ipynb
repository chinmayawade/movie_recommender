{
 "cells": [
  {
   "cell_type": "code",
   "execution_count": 5,
   "id": "1a226545",
   "metadata": {},
   "outputs": [],
   "source": [
    "# Streamlit turns data scripts into shareable web apps in minutes.\n",
    "# All in pure Python. No front‑end experience required.\n",
    "# https://streamlit.io/"
   ]
  },
  {
   "cell_type": "code",
   "execution_count": 8,
   "id": "b384d113",
   "metadata": {},
   "outputs": [],
   "source": [
    "import streamlit as st\n",
    "import pickle\n",
    "import pandas as pd\n",
    "\n",
    "def recommend(movie):\n",
    "    movie_index = movies[movies['title'] == movie].index[0] \n",
    "    distances = similarity[movie_index]\n",
    "    movie_list = sorted(list(enumerate( distances)),reverse =True , key = lambda x:x[1])[1:6]\n",
    "    \n",
    "    recommended_movies = []\n",
    "    \n",
    "    for i in movie_list:\n",
    "        recommended_movies.append(movies.iloc[i[0]].title)\n",
    "    return recommended_movies\n",
    "        \n",
    "movies_dict = pickle.load(open('movies_dict.pkl','rb'))\n",
    "movies = pd.DataFrame(movies_dict)\n",
    "\n",
    "similarity = pickle.load(open('similarity.pkl','rb'))\n",
    "\n",
    "st.title('Movie Recommender System')\n",
    "\n",
    "option = st.selectbox('Select your Movie:', movies['title'].values)\n",
    "\n",
    "if st.button('Recommend'):\n",
    "    recommendations = recommend(option)\n",
    "    for i in recommendations:\n",
    "        st.write(i)"
   ]
  },
  {
   "cell_type": "code",
   "execution_count": 7,
   "id": "919d15f4",
   "metadata": {},
   "outputs": [
    {
     "ename": "SyntaxError",
     "evalue": "invalid syntax (3737097518.py, line 1)",
     "output_type": "error",
     "traceback": [
      "\u001b[1;36m  Input \u001b[1;32mIn [7]\u001b[1;36m\u001b[0m\n\u001b[1;33m    streamlit run app.py\u001b[0m\n\u001b[1;37m              ^\u001b[0m\n\u001b[1;31mSyntaxError\u001b[0m\u001b[1;31m:\u001b[0m invalid syntax\n"
     ]
    }
   ],
   "source": [
    "streamlit run app.py # write on command prompt with proper path"
   ]
  }
 ],
 "metadata": {
  "kernelspec": {
   "display_name": "Python 3 (ipykernel)",
   "language": "python",
   "name": "python3"
  },
  "language_info": {
   "codemirror_mode": {
    "name": "ipython",
    "version": 3
   },
   "file_extension": ".py",
   "mimetype": "text/x-python",
   "name": "python",
   "nbconvert_exporter": "python",
   "pygments_lexer": "ipython3",
   "version": "3.8.4"
  }
 },
 "nbformat": 4,
 "nbformat_minor": 5
}
